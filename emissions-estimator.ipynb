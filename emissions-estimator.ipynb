{
 "cells": [
  {
   "cell_type": "markdown",
   "metadata": {},
   "source": [
    "# Estimate your personal carbon emissions\n",
    "**Uses the formula presented in \"Being the Change\" by Dr. Peter Kalmus (Pages 162 and 163). Each section contains a function to calculate emissions from a certain component of your daily life. Example values are entered into the functions as arguments. Simply replace them as shown in the examples.** \n",
    "\n",
    "**To run all cells, get a final total emissions value, and plot a breakdown of your emissions by category, go to the \"Cell\" dropdown menu above and click \"Run All\".**"
   ]
  },
  {
   "cell_type": "code",
   "execution_count": 1,
   "metadata": {},
   "outputs": [],
   "source": [
    "# Import necessary python packages\n",
    "%matplotlib inline\n",
    "import matplotlib.pyplot as plt\n",
    "import numpy as np"
   ]
  },
  {
   "cell_type": "markdown",
   "metadata": {},
   "source": [
    "## Planes"
   ]
  },
  {
   "cell_type": "code",
   "execution_count": 2,
   "metadata": {},
   "outputs": [],
   "source": [
    "def plane_emissions(coach, first):\n",
    "    \"\"\"Calculates emissions from air travel.\"\"\"\n",
    "    \n",
    "    # Conversion factores in units of kg CO2e\n",
    "    coach_conversion = 0.8\n",
    "    first_conversion = 1.5\n",
    "    \n",
    "    total_planes = (coach*coach_conversion) + (first*first_conversion)\n",
    "    \n",
    "    return total_planes"
   ]
  },
  {
   "cell_type": "markdown",
   "metadata": {},
   "source": [
    "**Enter your total miles flown in coach and your total miles flown in first class.**"
   ]
  },
  {
   "cell_type": "code",
   "execution_count": 3,
   "metadata": {},
   "outputs": [],
   "source": [
    "total_planes = plane_emissions(coach=2000, first=1000)"
   ]
  },
  {
   "cell_type": "markdown",
   "metadata": {},
   "source": [
    "## Driving"
   ]
  },
  {
   "cell_type": "code",
   "execution_count": 4,
   "metadata": {},
   "outputs": [],
   "source": [
    "def driving_emissions(fuel_types, miles, mpg):\n",
    "    \"\"\"Calculates emissions from driving.\"\"\"\n",
    "    \n",
    "    # Conversion factores in units of kg CO2 per mile\n",
    "    diesel_conversion = 12.1\n",
    "    gasoline_conversion = 11.3\n",
    "    \n",
    "    cumulative = []\n",
    "    \n",
    "    # Sum over all the vehicles, accounting for fuel type, mpg, miles. \n",
    "    for i in range(len(fuel_types)): \n",
    "        gallons = miles[i]/mpg[i]\n",
    "        \n",
    "        if fuel_types[i] == \"diesel\":\n",
    "            CO2e = diesel_conversion*gallons\n",
    "            cumulative.append(CO2e)\n",
    "            \n",
    "        elif fuel_types[i] == \"gasoline\":\n",
    "            CO2e = gasoline_conversion*gallons\n",
    "            cumulative.append(CO2e)\n",
    "            \n",
    "        else:\n",
    "            print(\"Your car must be gasoline or diesel!\")\n",
    "\n",
    "    total_driving = np.sum(cumulative)\n",
    "    \n",
    "    return total_driving"
   ]
  },
  {
   "cell_type": "markdown",
   "metadata": {},
   "source": [
    "**Enter a list of fuel_types by vehicle as in this example: [\"gasoline\", \"gasoline\", \"diesel\"]**\n",
    "\n",
    "**Enter a list of miles driven by vehicle as in this example: [1000, 5000, 500]**\n",
    "\n",
    "**Enter a list of mpg fuel efficiencies by vehicle as in this example: [25, 40, 35]**"
   ]
  },
  {
   "cell_type": "code",
   "execution_count": null,
   "metadata": {},
   "outputs": [],
   "source": [
    "total_driving = driving_emissions(miles=[10000], mpg=[30], fuel_types = [\"gasoline\"])"
   ]
  },
  {
   "cell_type": "markdown",
   "metadata": {},
   "source": [
    "## Intercity trains and buses"
   ]
  },
  {
   "cell_type": "code",
   "execution_count": 6,
   "metadata": {},
   "outputs": [],
   "source": [
    "def trains_buses(bus_miles, train_miles):\n",
    "    \"\"\"Calculates total emissions from miles ridden on trains and buses.\"\"\"\n",
    "    \n",
    "    # Conversion factores in units of kg CO2 per mile\n",
    "    train_conversion = 0.16\n",
    "    bus_conversion = 0.065\n",
    "    \n",
    "    # Calculate the sum of train and bus emissions\n",
    "    total_trains_buses = (bus_conversion*bus_miles) + (train_conversion*train_miles)\n",
    "    \n",
    "    return total_trains_buses"
   ]
  },
  {
   "cell_type": "markdown",
   "metadata": {},
   "source": [
    "**Enter your total bus miles and total train miles.** "
   ]
  },
  {
   "cell_type": "code",
   "execution_count": 7,
   "metadata": {},
   "outputs": [],
   "source": [
    "total_trains_buses = trains_buses(bus_miles=10000, train_miles=0)"
   ]
  },
  {
   "cell_type": "markdown",
   "metadata": {},
   "source": [
    "## Natural gas\n"
   ]
  },
  {
   "cell_type": "code",
   "execution_count": 8,
   "metadata": {},
   "outputs": [],
   "source": [
    "def natural_gas(gas_used, num_people_household):\n",
    "    \"\"\"Calculates total emissions from natural gas usage.\"\"\"\n",
    "    \n",
    "    # Conversion factores in units of kg CO2e per therm\n",
    "    natgas_conversion = 13\n",
    "    \n",
    "    # Calculate the sum of train and bus emissions\n",
    "    \n",
    "    if gas_used > 0:\n",
    "        total_natgas = (gas_used/num_people_household)*natgas_conversion\n",
    "        \n",
    "    else:\n",
    "        total_natgas = 0\n",
    "    \n",
    "    return total_natgas"
   ]
  },
  {
   "cell_type": "markdown",
   "metadata": {},
   "source": [
    "**Enter the total gas used (estimated from your utility bills) and the number of people in your household.**"
   ]
  },
  {
   "cell_type": "code",
   "execution_count": 9,
   "metadata": {},
   "outputs": [],
   "source": [
    "total_natgas = natural_gas(gas_used=1000, num_people_household=2)"
   ]
  },
  {
   "cell_type": "markdown",
   "metadata": {},
   "source": [
    "## Food"
   ]
  },
  {
   "cell_type": "code",
   "execution_count": 10,
   "metadata": {},
   "outputs": [],
   "source": [
    "def food(diet_type, sustainable_fraction):\n",
    "    \"\"\"Estimate emissions from the diet.\"\"\"\n",
    "    \n",
    "    # Conversion factors in units of kg CO2e per year\n",
    "    meat_conversion = 3000\n",
    "    vegetarian_conversion = 1500\n",
    "    vegan_conversion = 1000\n",
    "    \n",
    "    if diet_type == \"meat\":\n",
    "        total_food = meat_conversion - (sustainable_fraction*meat_conversion)\n",
    "        \n",
    "    elif diet_type == \"vegetarian\":\n",
    "        total_food = vegetarian_conversion - (sustainable_fraction*vegetarian_conversion)\n",
    "        \n",
    "    elif diet_type == \"vegan\":\n",
    "        total_food = vegan_conversion - (sustainable_fraction*vegan_conversion)\n",
    "        \n",
    "    else:\n",
    "        print(\"You must eat something!\")\n",
    "        \n",
    "        \n",
    "    return total_food\n"
   ]
  },
  {
   "cell_type": "markdown",
   "metadata": {},
   "source": [
    "**Enter your diet type as either \"meat\", \"vegetarian\", or \"vegan\". Spelling matters!** \n",
    "\n",
    "**Also enter the \"sustainable fraction\" of your diet, i.e. the amount taken from your garden or freeganism.**"
   ]
  },
  {
   "cell_type": "code",
   "execution_count": 11,
   "metadata": {},
   "outputs": [],
   "source": [
    "total_food = food(diet_type=\"meat\", sustainable_fraction=0)"
   ]
  },
  {
   "cell_type": "markdown",
   "metadata": {},
   "source": [
    "## Electricity\n"
   ]
  },
  {
   "cell_type": "code",
   "execution_count": 12,
   "metadata": {},
   "outputs": [],
   "source": [
    "def electricity(kWh_used, num_people_household):\n",
    "    \"\"\"Estimate annual emissions from electricity usage.\"\"\"\n",
    "    \n",
    "    # Conversion factor in units of kg CO2e per kWh\n",
    "    electricity_conversion = 0.9\n",
    "    \n",
    "    # Calculate the total emissions \n",
    "    total_electricity = (kWh_used/num_people_household)*electricity_conversion\n",
    "    \n",
    "    return total_electricity\n",
    "    "
   ]
  },
  {
   "cell_type": "markdown",
   "metadata": {},
   "source": [
    "**Enter the kWh used by your household (estimated from your utility bills) and the number of people in your\n",
    "household.**"
   ]
  },
  {
   "cell_type": "code",
   "execution_count": 13,
   "metadata": {},
   "outputs": [],
   "source": [
    "total_electricity = electricity(kWh_used=10000, num_people_household=2)"
   ]
  },
  {
   "cell_type": "markdown",
   "metadata": {},
   "source": [
    "## Waste\n"
   ]
  },
  {
   "cell_type": "code",
   "execution_count": 14,
   "metadata": {},
   "outputs": [],
   "source": [
    "def waste(fraction_secondhand, compost_all_food, compost_all_yard):\n",
    "    \"\"\"Estimate annual emissions from waste using average values.\"\"\"\n",
    "    \n",
    "    # Average estimates of waste emissions in units of kg CO2e per year\n",
    "    food_yard = 700\n",
    "    sewage = 150\n",
    "    paper = 300 # assuming that you recycle paper waste! \n",
    "    textiles = 300\n",
    "    \n",
    "    if compost_all_food == True and compost_all_yard == True:    \n",
    "        total_waste = (food_yard - 400) + sewage + paper + (textiles - (textiles*fraction_secondhand))\n",
    "        \n",
    "    elif compost_all_food == True and compost_all_yard == False:\n",
    "        total_waste = (food_yard - 200) + sewage + paper + (textiles - (textiles*fraction_secondhand))\n",
    "        \n",
    "    elif compost_all_food == False and compost_all_yard == True:\n",
    "        total_waste = (food_yard - 200) + sewage + paper + (textiles - (textiles*fraction_secondhand))\n",
    "        \n",
    "    else:\n",
    "        print(\"Please double-check the information you've entered.\")\n",
    "        \n",
    "        \n",
    "    return total_waste\n",
    "        "
   ]
  },
  {
   "cell_type": "markdown",
   "metadata": {},
   "source": [
    "**Enter the \"fraction_secondhand\", the fraction of your textiles purchase seconhand.** \n",
    "\n",
    "**Also enter whether you compost all food waste as \"True\" of \"False\".**\n",
    "\n",
    "**Also enter whether you compost all yard waste as \"True\" of \"False\".**"
   ]
  },
  {
   "cell_type": "code",
   "execution_count": 15,
   "metadata": {},
   "outputs": [],
   "source": [
    "total_waste = waste(fraction_secondhand=0.5, compost_all_food=False, compost_all_yard=True)"
   ]
  },
  {
   "cell_type": "markdown",
   "metadata": {},
   "source": [
    "## New stuff"
   ]
  },
  {
   "cell_type": "code",
   "execution_count": 16,
   "metadata": {},
   "outputs": [],
   "source": [
    "def new_stuff(us_dollars):\n",
    "    \"\"\"Estimate the emissions that result from purchasing new stuff.\"\"\"\n",
    "    \n",
    "    # Conversion factor in units of kg CO2e per US dollar\n",
    "    stuff_conversion = 0.5\n",
    "    \n",
    "    total_new_stuff = stuff_conversion*us_dollars\n",
    "    \n",
    "    return total_new_stuff"
   ]
  },
  {
   "cell_type": "markdown",
   "metadata": {},
   "source": [
    "**Enter the amount of money you spend annually on new stuff (in US dollars).**"
   ]
  },
  {
   "cell_type": "code",
   "execution_count": 17,
   "metadata": {},
   "outputs": [],
   "source": [
    "total_new_stuff = new_stuff(us_dollars=2000)"
   ]
  },
  {
   "cell_type": "markdown",
   "metadata": {},
   "source": [
    "# Put it all together! \n",
    "\n",
    "**Run this to sum up all of your emissions and give you a final total!** "
   ]
  },
  {
   "cell_type": "code",
   "execution_count": 25,
   "metadata": {},
   "outputs": [],
   "source": [
    "components = [total_planes, total_driving, total_trains_buses, total_natgas, total_food, total_electricity, total_new_stuff, total_waste]\n",
    "\n",
    "def sum_it_all_up(components):\n",
    "    \"\"\"Calculate the total annual CO2 emissions from the estimates of individual components.\"\"\"\n",
    "    \n",
    "    total_emissions = np.sum(components)\n",
    "    total_emissions = np.round(total_emissions, decimals=1)\n",
    "    \n",
    "    return total_emissions"
   ]
  },
  {
   "cell_type": "code",
   "execution_count": 26,
   "metadata": {},
   "outputs": [],
   "source": [
    "total_emissions = sum_it_all_up(components)"
   ]
  },
  {
   "cell_type": "markdown",
   "metadata": {},
   "source": [
    "## Breakdown of your emissions by category"
   ]
  },
  {
   "cell_type": "code",
   "execution_count": 28,
   "metadata": {},
   "outputs": [
    {
     "name": "stdout",
     "output_type": "stream",
     "text": [
      "Your total annual CO2 emissions amount to 23616.7 kg.\n"
     ]
    },
    {
     "data": {
      "image/png": "[encoded data removed]",
      "text/plain": [
       "<Figure size 576x576 with 1 Axes>"
      ]
     },
     "metadata": {},
     "output_type": "display_data"
    }
   ],
   "source": [
    "print(\"Your total annual CO2 emissions amount to \" + str(total_emissions) + \" kg.\")\n",
    "\n",
    "fig1, ax1 = plt.subplots()\n",
    "fig1.set_size_inches(8, 8)\n",
    "\n",
    "labels = [\"planes\", \"driving\", \"trains & buses\", \"natural gas\", \"food\", \"electricity\", \"new stuff\", \"waste\"]\n",
    "\n",
    "ax1.pie(components, labels=labels, autopct='%1.1f%%',\n",
    "        shadow=True, startangle=90)\n",
    "\n",
    "ax1.axis('equal')  # Equal aspect ratio ensures that pie is drawn as a circle.\n",
    "\n",
    "plt.show()"
   ]
  },
  {
   "cell_type": "code",
   "execution_count": null,
   "metadata": {},
   "outputs": [],
   "source": []
  }
 ],
 "metadata": {
  "kernelspec": {
   "display_name": "Python 3",
   "language": "python",
   "name": "python3"
  },
  "language_info": {
   "codemirror_mode": {
    "name": "ipython",
    "version": 3
   },
   "file_extension": ".py",
   "mimetype": "text/x-python",
   "name": "python",
   "nbconvert_exporter": "python",
   "pygments_lexer": "ipython3",
   "version": "3.6.3"
  }
 },
 "nbformat": 4,
 "nbformat_minor": 2
}
